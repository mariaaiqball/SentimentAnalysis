{
 "cells": [
  {
   "cell_type": "code",
   "execution_count": 7,
   "id": "f5345792",
   "metadata": {},
   "outputs": [],
   "source": [
    "from sklearn.model_selection import train_test_split\n",
    "from sklearn.feature_extraction.text import TfidfVectorizer\n",
    "from sklearn.linear_model import LogisticRegression\n",
    "from sklearn.metrics import classification_report\n",
    "import pandas as pd \n",
    "\n",
    "def logistic_regression(df):\n",
    "    # 1. Split the data\n",
    "    X_train, X_test, y_train, y_test = train_test_split(df[\"text\"], df[\"label\"], test_size=0.2, random_state=42, stratify=df[\"label\"])\n",
    "\n",
    "    # 2. Convert text to numerical features using TF-IDF\n",
    "    vectorizer = TfidfVectorizer(max_features=5000, ngram_range=(1,2))\n",
    "    X_train_tfidf = vectorizer.fit_transform(X_train)\n",
    "    X_test_tfidf = vectorizer.transform(X_test)\n",
    "\n",
    "    # 3. Train logistic regression\n",
    "    model = LogisticRegression(max_iter=1000)\n",
    "    model.fit(X_train_tfidf, y_train)\n",
    "\n",
    "    # 4. Predict and evaluate\n",
    "    y_pred = model.predict(X_test_tfidf)\n",
    "    print(classification_report(y_test, y_pred))\n",
    "\n"
   ]
  },
  {
   "cell_type": "markdown",
   "id": "e8d64157",
   "metadata": {},
   "source": [
    "#### Logistic Regression - Scikit Library\n",
    "\n",
    "- starbucks.csv\n",
    "- starbucks2.csv \n",
    "- starbucks.csv + starbucks2.csv\n",
    "- dunkin.csv \n",
    "- starbucks.csv + starbucks2.csv + dunkin.csv "
   ]
  },
  {
   "cell_type": "code",
   "execution_count": 8,
   "id": "7cc4928f",
   "metadata": {},
   "outputs": [
    {
     "name": "stdout",
     "output_type": "stream",
     "text": [
      "              precision    recall  f1-score   support\n",
      "\n",
      "    negative       0.86      0.33      0.48        18\n",
      "     neutral       0.65      0.95      0.77        42\n",
      "    positive       0.83      0.56      0.67        27\n",
      "\n",
      "    accuracy                           0.70        87\n",
      "   macro avg       0.78      0.61      0.64        87\n",
      "weighted avg       0.75      0.70      0.68        87\n",
      "\n"
     ]
    }
   ],
   "source": [
    "df1 = pd.read_csv('starbucks.csv')\n",
    "df1.drop_duplicates(subset=['text'], keep='last', inplace=True)\n",
    "df1.dropna(subset=['text','label'], inplace=True)\n",
    "df1.reindex()\n",
    "logistic_regression(df1)"
   ]
  },
  {
   "cell_type": "code",
   "execution_count": 9,
   "id": "ac5e09e3",
   "metadata": {},
   "outputs": [
    {
     "name": "stdout",
     "output_type": "stream",
     "text": [
      "              precision    recall  f1-score   support\n",
      "\n",
      "    negative       0.62      0.58      0.60        36\n",
      "     neutral       0.67      0.32      0.43        25\n",
      "    positive       0.56      0.78      0.65        40\n",
      "\n",
      "    accuracy                           0.59       101\n",
      "   macro avg       0.62      0.56      0.56       101\n",
      "weighted avg       0.61      0.59      0.58       101\n",
      "\n"
     ]
    }
   ],
   "source": [
    "df2 = pd.read_csv('starbucks2.csv')\n",
    "df2.drop_duplicates(subset=['text'], keep='last', inplace=True)\n",
    "df2.dropna(subset=['text','label'], inplace=True)\n",
    "df2.reindex()\n",
    "logistic_regression(df2)"
   ]
  },
  {
   "cell_type": "code",
   "execution_count": 10,
   "id": "58ad5571",
   "metadata": {},
   "outputs": [
    {
     "name": "stdout",
     "output_type": "stream",
     "text": [
      "              precision    recall  f1-score   support\n",
      "\n",
      "    negative       0.89      0.57      0.70        54\n",
      "     neutral       0.49      0.52      0.51        67\n",
      "    positive       0.55      0.67      0.60        67\n",
      "\n",
      "    accuracy                           0.59       188\n",
      "   macro avg       0.64      0.59      0.60       188\n",
      "weighted avg       0.63      0.59      0.60       188\n",
      "\n"
     ]
    }
   ],
   "source": [
    "starbucks = pd.concat([df1, df2], ignore_index=True)\n",
    "logistic_regression(starbucks)"
   ]
  },
  {
   "cell_type": "code",
   "execution_count": 11,
   "id": "32145991",
   "metadata": {},
   "outputs": [
    {
     "name": "stdout",
     "output_type": "stream",
     "text": [
      "              precision    recall  f1-score   support\n",
      "\n",
      "    negative       0.33      0.05      0.08        22\n",
      "     neutral       0.59      0.38      0.46        42\n",
      "    positive       0.47      0.84      0.61        44\n",
      "\n",
      "    accuracy                           0.50       108\n",
      "   macro avg       0.47      0.42      0.38       108\n",
      "weighted avg       0.49      0.50      0.44       108\n",
      "\n"
     ]
    }
   ],
   "source": [
    "dunkin = pd.read_csv('dunkin.csv')\n",
    "dunkin.drop_duplicates(subset=['text'], keep='last', inplace=True)\n",
    "dunkin.dropna(subset=['text','label'], inplace=True)\n",
    "dunkin.reindex()\n",
    "logistic_regression(dunkin)"
   ]
  },
  {
   "cell_type": "code",
   "execution_count": 12,
   "id": "0e0d7f3d",
   "metadata": {},
   "outputs": [
    {
     "name": "stdout",
     "output_type": "stream",
     "text": [
      "              precision    recall  f1-score   support\n",
      "\n",
      "    negative       0.65      0.32      0.42        76\n",
      "     neutral       0.54      0.61      0.58       109\n",
      "    positive       0.56      0.68      0.62       111\n",
      "\n",
      "    accuracy                           0.56       296\n",
      "   macro avg       0.58      0.54      0.54       296\n",
      "weighted avg       0.58      0.56      0.55       296\n",
      "\n"
     ]
    }
   ],
   "source": [
    "df = pd.concat([df1, df2, dunkin], ignore_index=True)\n",
    "logistic_regression(df)"
   ]
  }
 ],
 "metadata": {
  "kernelspec": {
   "display_name": ".venv",
   "language": "python",
   "name": "python3"
  },
  "language_info": {
   "codemirror_mode": {
    "name": "ipython",
    "version": 3
   },
   "file_extension": ".py",
   "mimetype": "text/x-python",
   "name": "python",
   "nbconvert_exporter": "python",
   "pygments_lexer": "ipython3",
   "version": "3.12.4"
  }
 },
 "nbformat": 4,
 "nbformat_minor": 5
}
